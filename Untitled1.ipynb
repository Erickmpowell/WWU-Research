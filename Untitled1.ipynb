{
 "cells": [
  {
   "cell_type": "code",
   "execution_count": 2,
   "metadata": {
    "collapsed": true
   },
   "outputs": [],
   "source": [
    "import matplotlib\n",
    "import matplotlib.pyplot as plt\n",
    "from scipy import stats\n",
    "import numpy as np\n",
    "import pandas as pd\n",
    "\n",
    "#this 'magic' matplotlib command tells iPython to show any figures in this notebook, \n",
    "#rather than a separate window or saving them in separate files.\n",
    "%matplotlib inline\n",
    "\n",
    "#These commands help python remember how to format my figures so that they look nice\n",
    "from IPython.display import set_matplotlib_formats\n",
    "set_matplotlib_formats('pdf', 'png')\n",
    "plt.rcParams['savefig.dpi'] = 200\n",
    "\n",
    "plt.rcParams['figure.autolayout'] = False\n",
    "plt.rcParams['figure.figsize'] = 10, 6\n",
    "plt.rcParams['axes.labelsize'] = 18\n",
    "plt.rcParams['axes.titlesize'] = 20\n",
    "plt.rcParams['font.size'] = 16\n",
    "plt.rcParams['lines.linewidth'] = 2.0\n",
    "plt.rcParams['lines.markersize'] = 8\n",
    "plt.rcParams['legend.fontsize'] = 14\n",
    "\n",
    "matplotlib.rcParams['xtick.direction'] = 'out'\n",
    "matplotlib.rcParams['ytick.direction'] = 'out'"
   ]
  },
  {
   "cell_type": "code",
   "execution_count": null,
   "metadata": {
    "collapsed": true
   },
   "outputs": [],
   "source": []
  },
  {
   "cell_type": "code",
   "execution_count": 5,
   "metadata": {},
   "outputs": [
    {
     "name": "stdout",
     "output_type": "stream",
     "text": [
      "Using a distance cut:\n"
     ]
    },
    {
     "ename": "NameError",
     "evalue": "name 'Bins' is not defined",
     "output_type": "error",
     "traceback": [
      "\u001b[1;31m---------------------------------------------------------------------------\u001b[0m",
      "\u001b[1;31mNameError\u001b[0m                                 Traceback (most recent call last)",
      "\u001b[1;32m<ipython-input-5-a76e9610311d>\u001b[0m in \u001b[0;36m<module>\u001b[1;34m()\u001b[0m\n\u001b[0;32m     53\u001b[0m \u001b[1;33m\u001b[0m\u001b[0m\n\u001b[0;32m     54\u001b[0m \u001b[1;31m##spliting the velocities and errors into magnitude bins\u001b[0m\u001b[1;33m\u001b[0m\u001b[1;33m\u001b[0m\u001b[0m\n\u001b[1;32m---> 55\u001b[1;33m \u001b[0mvelocities\u001b[0m \u001b[1;33m=\u001b[0m \u001b[0mchunkIt\u001b[0m\u001b[1;33m(\u001b[0m\u001b[0mcz\u001b[0m\u001b[1;33m[\u001b[0m\u001b[0mmagIndexDcut\u001b[0m\u001b[1;33m]\u001b[0m\u001b[1;33m,\u001b[0m\u001b[0mBins\u001b[0m\u001b[1;33m)\u001b[0m\u001b[1;33m\u001b[0m\u001b[0m\n\u001b[0m\u001b[0;32m     56\u001b[0m \u001b[0merrors\u001b[0m \u001b[1;33m=\u001b[0m \u001b[0mchunkIt\u001b[0m\u001b[1;33m(\u001b[0m\u001b[0mecz\u001b[0m\u001b[1;33m[\u001b[0m\u001b[0mmagIndexDcut\u001b[0m\u001b[1;33m]\u001b[0m\u001b[1;33m,\u001b[0m\u001b[0mBins\u001b[0m\u001b[1;33m)\u001b[0m\u001b[1;33m\u001b[0m\u001b[0m\n\u001b[0;32m     57\u001b[0m \u001b[0mmagnitude\u001b[0m\u001b[1;33m=\u001b[0m\u001b[0mchunkIt\u001b[0m\u001b[1;33m(\u001b[0m\u001b[0mr\u001b[0m\u001b[1;33m[\u001b[0m\u001b[0mmagIndexDcut\u001b[0m\u001b[1;33m]\u001b[0m\u001b[1;33m,\u001b[0m\u001b[0mBins\u001b[0m\u001b[1;33m)\u001b[0m\u001b[1;33m\u001b[0m\u001b[0m\n",
      "\u001b[1;31mNameError\u001b[0m: name 'Bins' is not defined"
     ]
    }
   ],
   "source": [
    "cz, ecz, r, mem, dist = np.loadtxt(r\"C:\\Users\\Erick\\Documents\\School\\Research\\Data\\comaallzad.tab.010.q25mem.tab\", usecols=(2,3,6,9,10), skiprows=2, unpack=True)\n",
    "\n",
    "def dispersion(vel,err,mag):\n",
    "    \n",
    "    data=[]\n",
    "    \n",
    "    ##This will calculate each dispersion of the array\n",
    "    for i in range(len(vel)):\n",
    "\n",
    "        c=3*10**5\n",
    "        df=(len(vel[i])-1)\n",
    "        vbar= np.average(vel[i])\n",
    "        eczbar=np.average(err[i])\n",
    "\n",
    "        vel1= (vel[i]- vbar)/(1+vbar/c)\n",
    "        velDis= sum(vel1**2/df) - (eczbar**2/(1+vbar/c)**2 )\n",
    "\n",
    "        interval= stats.chi2.interval(.68,df)\n",
    "        deltastar2= (eczbar)**2 /((1+vbar/c)**2)\n",
    "\n",
    "        temp=[np.average(mag[i])]\n",
    "        temp.append(np.sqrt(velDis))\n",
    "        temp.append(np.sqrt((np.sqrt(df/interval[1])-1)**2 *velDis + deltastar2*(1+deltastar2/(2*velDis))/(df+1)))\n",
    "        temp.append(np.sqrt((np.sqrt(df/interval[0])-1)**2 *velDis + deltastar2*(1+deltastar2/(2*velDis))/(df+1)))\n",
    "        data.append(temp)\n",
    "         \n",
    "    return data\n",
    "\n",
    "\n",
    "##This is a function taken from stack exchange that splits a list into n-equal parts\n",
    "def chunkIt(seq, num):\n",
    "    \n",
    "    avg = len(seq) / float(num)\n",
    "    out = []\n",
    "    last = 0.0\n",
    "\n",
    "    while last < len(seq):\n",
    "        out.append(seq[int(last):int(last + avg)])\n",
    "        last += avg\n",
    "\n",
    "    return out\n",
    "\n",
    "\n",
    "if (type(dist) is int and type(mem) is int) :\n",
    "    magIndexDcut = np.argsort(r)\n",
    "    print(\"No distance cut:\")\n",
    "elif not(type(dist) is int):\n",
    "    magIndexDcut = np.argsort(r[dist < 1])\n",
    "    print('Using a distance cut:')\n",
    "else:\n",
    "    magIndexDcut = np.argsort(r)\n",
    "    print('Using a membership cut')\n",
    "\n",
    "##spliting the velocities and errors into magnitude bins\n",
    "velocities = chunkIt(cz[magIndexDcut],Bins)\n",
    "errors = chunkIt(ecz[magIndexDcut],Bins)\n",
    "magnitude=chunkIt(r[magIndexDcut],Bins)\n",
    "\n",
    "values = dispersion(velocities,errors,magnitude)\n",
    "\n",
    "Bins=5\n",
    "\n",
    "names = range(1,Bins+1)\n",
    "df = pd.DataFrame(values, index=names, columns=[\"Average r Magnitude\",\"Dispersion (km/s)\",\"Low Err(km/s)\",\"Up Err(km/s)\"])\n",
    "print(df)\n",
    "\n",
    "for i in range(Bins):\n",
    "    plt.xlabel(\"Magnitude Bins\")\n",
    "    plt.ylabel(\"Velocity Dispersion (km/s)\")\n",
    "    plt.scatter(values[i][0],values[i][1])\n",
    "    plt.errorbar(values[i][0],values[i][1],yerr=[[values[i][2]],[values[i][3]]],capsize=3,c='k')"
   ]
  },
  {
   "cell_type": "code",
   "execution_count": null,
   "metadata": {
    "collapsed": true
   },
   "outputs": [],
   "source": []
  },
  {
   "cell_type": "code",
   "execution_count": null,
   "metadata": {
    "collapsed": true
   },
   "outputs": [],
   "source": []
  }
 ],
 "metadata": {
  "kernelspec": {
   "display_name": "Python 3",
   "language": "python",
   "name": "python3"
  },
  "language_info": {
   "codemirror_mode": {
    "name": "ipython",
    "version": 3
   },
   "file_extension": ".py",
   "mimetype": "text/x-python",
   "name": "python",
   "nbconvert_exporter": "python",
   "pygments_lexer": "ipython3",
   "version": "3.6.3"
  }
 },
 "nbformat": 4,
 "nbformat_minor": 2
}
